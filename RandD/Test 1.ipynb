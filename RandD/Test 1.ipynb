{
 "cells": [
  {
   "cell_type": "code",
   "execution_count": 3,
   "metadata": {},
   "outputs": [],
   "source": [
    "from pyfirmata import Arduino"
   ]
  },
  {
   "cell_type": "code",
   "execution_count": 10,
   "metadata": {},
   "outputs": [],
   "source": [
    "board = Arduino(\"/dev/ttyACM2\")"
   ]
  },
  {
   "cell_type": "code",
   "execution_count": 7,
   "metadata": {},
   "outputs": [],
   "source": [
    "servo_3 = board.get_pin('d:{}:s'.format(4))"
   ]
  },
  {
   "cell_type": "code",
   "execution_count": 8,
   "metadata": {},
   "outputs": [],
   "source": [
    "servo_4 = board.get_pin('d:{}:s'.format(5))"
   ]
  },
  {
   "cell_type": "code",
   "execution_count": 9,
   "metadata": {},
   "outputs": [],
   "source": [
    "board.exit()"
   ]
  },
  {
   "cell_type": "code",
   "execution_count": 1,
   "metadata": {},
   "outputs": [],
   "source": [
    "class ArduinoController():\n",
    "    # ls /dev/ttyACM\n",
    "    # sudo chmod 666 /dev/ttyACM0  \n",
    "\n",
    "    def __init__(self, port):\n",
    "        self.board = Arduino(port)\n",
    "        # define servo output\n",
    "        # self.servo_1 = self.board.get_pin('d:{}:s'.format(2))\n",
    "        # self.servo_2 = self.board.get_pin('d:{}:s'.format(3))\n",
    "        self.servo_3 = self.board.get_pin('d:{}:s'.format(4))\n",
    "        self.servo_4 = self.board.get_pin('d:{}:s'.format(5))\n",
    "        self.servo_5 = self.board.get_pin('d:{}:s'.format(6))\n",
    "\n",
    "        self.pince_opened = False\n",
    "        self.pince_open()\n",
    "\n",
    "        self.write(90, 45)\n",
    "\n",
    "    def __del__(self):\n",
    "        self.board.exit()\n",
    "\n",
    "    def write(self, angle3, angle4):\n",
    "        # self.servo_1.write(angle1)\n",
    "        # self.servo_2.write(angle2)\n",
    "        self.servo_3.write(angle3)\n",
    "        self.servo_4.write(angle4)\n",
    "\n",
    "    def pince_open(self):\n",
    "        if not self.pince_opened:\n",
    "            self.servo_5.write(50)\n",
    "            self.pince_opened = True\n",
    "\n",
    "    def pince_close(self):\n",
    "        if self.pince_opened:\n",
    "            self.servo_5.write(180)\n",
    "            self.pince_opened = False\n",
    "\n",
    "    def pince_controller(self):\n",
    "        if self.pince_opened:\n",
    "            self.pince_close()\n",
    "        else:\n",
    "            self.pince_open()\n"
   ]
  },
  {
   "cell_type": "code",
   "execution_count": 5,
   "metadata": {},
   "outputs": [],
   "source": [
    "controller = ArduinoController(\"/dev/ttyACM4\")"
   ]
  },
  {
   "cell_type": "code",
   "execution_count": 4,
   "metadata": {},
   "outputs": [],
   "source": [
    "controller.write(90, 90, 90, 45)"
   ]
  },
  {
   "cell_type": "code",
   "execution_count": 47,
   "metadata": {},
   "outputs": [
    {
     "ename": "NameError",
     "evalue": "name 'controller' is not defined",
     "output_type": "error",
     "traceback": [
      "\u001b[0;31m---------------------------------------------------------------------------\u001b[0m",
      "\u001b[0;31mNameError\u001b[0m                                 Traceback (most recent call last)",
      "\u001b[0;32m<ipython-input-47-5b490a1b2c72>\u001b[0m in \u001b[0;36m<module>\u001b[0;34m\u001b[0m\n\u001b[0;32m----> 1\u001b[0;31m \u001b[0;32mdel\u001b[0m \u001b[0mcontroller\u001b[0m\u001b[0;34m\u001b[0m\u001b[0;34m\u001b[0m\u001b[0m\n\u001b[0m",
      "\u001b[0;31mNameError\u001b[0m: name 'controller' is not defined"
     ]
    }
   ],
   "source": [
    "del controller"
   ]
  }
 ],
 "metadata": {
  "kernelspec": {
   "display_name": "VaccineArm",
   "language": "python",
   "name": "vaccinearm"
  },
  "language_info": {
   "codemirror_mode": {
    "name": "ipython",
    "version": 3
   },
   "file_extension": ".py",
   "mimetype": "text/x-python",
   "name": "python",
   "nbconvert_exporter": "python",
   "pygments_lexer": "ipython3",
   "version": "3.8.5"
  },
  "varInspector": {
   "cols": {
    "lenName": 16,
    "lenType": 16,
    "lenVar": 40
   },
   "kernels_config": {
    "python": {
     "delete_cmd_postfix": "",
     "delete_cmd_prefix": "del ",
     "library": "var_list.py",
     "varRefreshCmd": "print(var_dic_list())"
    },
    "r": {
     "delete_cmd_postfix": ") ",
     "delete_cmd_prefix": "rm(",
     "library": "var_list.r",
     "varRefreshCmd": "cat(var_dic_list()) "
    }
   },
   "types_to_exclude": [
    "module",
    "function",
    "builtin_function_or_method",
    "instance",
    "_Feature"
   ],
   "window_display": false
  }
 },
 "nbformat": 4,
 "nbformat_minor": 2
}
